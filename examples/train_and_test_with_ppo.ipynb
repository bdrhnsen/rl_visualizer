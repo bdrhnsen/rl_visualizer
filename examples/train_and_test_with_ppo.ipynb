{
 "cells": [
  {
   "cell_type": "code",
   "execution_count": null,
   "metadata": {},
   "outputs": [],
   "source": [
    "\n",
    "import gym\n",
    "import numpy as np\n",
    "%pip install rl_visualizer\n",
    "from rl_visualizer import RLVisualizer\n",
    "%pip install stable_baselines3\n",
    "%pip install \"gym[box2d]\" \n",
    "from stable_baselines3 import PPO\n",
    "\n",
    "def train_and_visualize(env_name=\"LunarLander-v2\", total_timesteps=1000, visualize=True):\n",
    "    # Create the environment\n",
    "    env = gym.make(env_name)\n",
    "\n",
    "    # Initialize the model\n",
    "    model = PPO(\"MlpPolicy\", env, verbose=1)\n",
    "\n",
    "    # Train the model\n",
    "\n",
    "    model.learn(total_timesteps=total_timesteps)\n",
    "\n",
    "    # Visualization configuration\n",
    "    config = {\n",
    "        \"history_length\": 200,\n",
    "        \"pause_time\": 0.001,\n",
    "        \"show_entropy\": True,\n",
    "        \"show_action_counts\": True,\n",
    "        \"show_rewards\": True,\n",
    "        \"colors\": [\"gray\"],\n",
    "        \"highlight_color\": \"blue\",\n",
    "        \"figsize\": (10, 10),\n",
    "    }\n",
    "    env = gym.make(env_name, render_mode=\"human\")\n",
    "    # Initialize the visualizer\n",
    "    visualizer = RLVisualizer(env.action_space, config)\n",
    "\n",
    "    # Test the model with visualization\n",
    "    obs, _ = env.reset()\n",
    "    visualizer.reset()\n",
    "    done = False\n",
    "    while not done:\n",
    "        action, _states = model.predict(obs, deterministic=True)\n",
    "        obs, reward, done, _, _ = env.step(action)\n",
    "\n",
    "        # Obtain the action probabilities from the model's policy\n",
    "        obs_tensor = model.policy.obs_to_tensor(obs)[0]\n",
    "        dis = model.policy.get_distribution(obs_tensor)\n",
    "        probs = dis.distribution.probs.cpu().detach().numpy()\n",
    "\n",
    "        # Update visualization with current action probabilities and reward\n",
    "        visualizer.update_visualization(probs, reward=reward, chosen_action=action)\n",
    "        env.render()\n",
    "if __name__ == \"__main__\":\n",
    "    train_and_visualize()\n"
   ]
  },
  {
   "cell_type": "markdown",
   "metadata": {},
   "source": []
  }
 ],
 "metadata": {
  "language_info": {
   "name": "python"
  }
 },
 "nbformat": 4,
 "nbformat_minor": 2
}
